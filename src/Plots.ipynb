{
 "cells": [
  {
   "cell_type": "code",
   "execution_count": 257,
   "id": "4fffb75a",
   "metadata": {},
   "outputs": [],
   "source": [
    "import pandas as pd\n",
    "import os\n",
    "import matplotlib.pyplot as plt\n",
    "import numpy as np\n",
    "from itertools import groupby\n",
    "from operator import itemgetter\n",
    "import more_itertools as mit\n",
    "\n",
    "#Located at computer\n",
    "#Define computer box as between x:1450 - 1600, y: 575 - 1700\n",
    "#Total time under analysis was 1180 seconds.\n",
    "FRAME_RATE = 29.61              #Average frame rate of the video\n",
    "TRUNC = 1200                    #Truncate data, clips ends off ~1200 each end, the time it took to reach the top of the forklift."
   ]
  },
  {
   "cell_type": "code",
   "execution_count": 258,
   "id": "0ea9b96c",
   "metadata": {},
   "outputs": [],
   "source": [
    "path_1 = os.path.join(\"C:\\Projects\", \"huboo\", \"data\", \"top_down_pick_and_pack_detection.csv.txt\")\n",
    "data = pd.read_csv(path_1)\n",
    "\n",
    "path_2 = os.path.join(\"C:\\Projects\", \"huboo\", \"data\", \"associations_top_down_pick_and_pack.csv.txt\")\n",
    "tracklets = pd.read_csv(path_2)"
   ]
  },
  {
   "cell_type": "code",
   "execution_count": 259,
   "id": "246b438a",
   "metadata": {},
   "outputs": [],
   "source": [
    "#Manually fix ReId errors\n",
    "#Man = 1, woman = 2\n",
    "#21 -> 2\n",
    "\n",
    "tracklets[\" person_id\"][7] = 2"
   ]
  },
  {
   "cell_type": "code",
   "execution_count": 260,
   "id": "463fa4ad",
   "metadata": {},
   "outputs": [],
   "source": [
    "identity = pd.merge(data, tracklets, on='tracklet_id', how='left')\n",
    "\n",
    "person_1 = identity[identity[\" person_id\"] == 1.0].reset_index()\n",
    "person_1 = person_1.truncate(before=TRUNC, after=len(person_1)-TRUNC).reset_index()\n",
    "\n",
    "person_2 = identity[identity[\" person_id\"] == 2.0].reset_index()\n",
    "person_2 = person_2.truncate(before=TRUNC, after=len(person_2)-TRUNC).reset_index()"
   ]
  },
  {
   "cell_type": "code",
   "execution_count": 261,
   "id": "2d5c3e96",
   "metadata": {},
   "outputs": [],
   "source": [
    "#Position\n",
    "#Position given by the middle bottom of the box. \n",
    "#position = (left, top) + 0.5 * (width, height)\n",
    "\n",
    "#person_1[\"position\"] = np.array(zip(person_1[\"l\"] + person_1[\"w\"] / 2, person_1[\"t\"] + person_1[\"h\"] / 2))\n",
    "person_1[\"x\"] = person_1[\"l\"] + person_1[\"w\"] / 2\n",
    "person_1[\"y\"] = person_1[\"t\"] + person_1[\"h\"] / 2\n",
    "\n",
    "#person_2[\"position\"] = np.array(zip(person_2[\"l\"] + person_2[\"w\"] / 2, person_2[\"t\"] + person_2[\"h\"] / 2))    #Can add: [1]*len(person_1), if want to transform.\n",
    "person_2[\"x\"] = person_2[\"l\"] + person_2[\"w\"] / 2\n",
    "person_2[\"y\"] = person_2[\"t\"] + person_2[\"h\"] / 2"
   ]
  },
  {
   "cell_type": "code",
   "execution_count": 262,
   "id": "25b917dd",
   "metadata": {},
   "outputs": [],
   "source": [
    "#Locations\n",
    "#x_min, x_max, y_min, _y_max\n",
    "#Don't forget that the y-axis is inverted.\n",
    "\n",
    "COMPUTER_COORD = [1450, 1600, 575, 700]\n",
    "DESK_COORD = [330, 1600, 575, 700]\n",
    "AISLE_2_COORD = [700, 900, 20, 400]\n",
    "AISLE_3_COORD = [1100, 1300, 100, 425]\n",
    "AISLE_4_COORD = [1500, 1800, 20, 390]\n",
    "AISLE_BACK_COORD = [0, 1920, -200, 20]\n",
    "ALL_COORD = [min(data[\"l\"]), max(data[\"l\"]), min(data[\"t\"]), max(data[\"t\"])]\n",
    "\n",
    "all_regions = {\n",
    "    \"Computer\" : COMPUTER_COORD,\n",
    "    \"Desk\" : DESK_COORD,\n",
    "    \"Aisle 2\" : AISLE_2_COORD,\n",
    "    \"Aisle 3\" : AISLE_3_COORD,\n",
    "    \"Aisle 4\" : AISLE_4_COORD,\n",
    "    \"Aisle back\" : AISLE_BACK_COORD,\n",
    "    \"Other\" : ALL_COORD\n",
    "}\n",
    "\n",
    "\n",
    "major_regions = {\n",
    "    \"Computer\" : COMPUTER_COORD,\n",
    "    \"Desk\" : DESK_COORD,\n",
    "    \"Aisles\" : (AISLE_2_COORD, AISLE_3_COORD, AISLE_4_COORD, AISLE_BACK_COORD),\n",
    "    \"Other\" : ALL_COORD\n",
    "}\n",
    "\n",
    "aisle_regions = {\n",
    "    \"Aisle 2\" : AISLE_2_COORD,\n",
    "    \"Aisle 3\" : AISLE_3_COORD,\n",
    "    \"Aisle 4\" : AISLE_4_COORD,\n",
    "    \"Aisle back\" : AISLE_BACK_COORD,\n",
    "}\n"
   ]
  },
  {
   "cell_type": "code",
   "execution_count": 263,
   "id": "74d32183",
   "metadata": {},
   "outputs": [],
   "source": [
    "class PlotFrame():\n",
    "    \n",
    "    def __init__(self, df, regions, other=None):\n",
    "        self.data = df.drop([\"level_0\", \"index\", \"tracklet_id\", \"l\", \"t\", \"w\", \"h\", \"probability_of_detection\", \" person_id\"], axis=1)\n",
    "        self.regions = regions\n",
    "        \n",
    "        for key, value in regions.items():\n",
    "            name = key\n",
    "            coords = value\n",
    "\n",
    "            if type(coords) == list:\n",
    "                conditions=[(coords[0] < self.data[\"x\"]) & (self.data[\"x\"] < coords[1]) & (coords[2] <self.data[\"y\"]) & (self.data[\"y\"] < coords[3])]\n",
    "                choices=[1]\n",
    "            else:\n",
    "                conditions=[(coord[0] < self.data[\"x\"]) & (self.data[\"x\"] < coord[1]) & (coord[2] < self.data[\"y\"]) & (self.data[\"y\"] < coord[3]) for coord in coords]\n",
    "                choices=[1]*len(coords)\n",
    "            \n",
    "            self.data[name] = np.select(conditions, choices, default = 0).astype('bool')\n",
    "        \n",
    "        if other == True:\n",
    "            subframe = self.data.iloc[:,-len(regions):]\n",
    "            condition=[subframe.sum(axis=1) == 0]\n",
    "            choice=[1]\n",
    "            self.data[\"Other\"] = np.select(condition, choice, default = 0)\n",
    "\n",
    "            \n",
    "        #Find strings of activities\n",
    "\n",
    "    def act_time(self, region):\n",
    "        #Takes in values (dataframe, activity as string)\n",
    "        #Returns a dictionary with a tuple of the form (start frame, end frame, time taken) for each instance of the activity.\n",
    "        iterable = self.data[self.data[region] == True].index.to_series().to_list()\n",
    "        lists = [list(group) for group in mit.consecutive_groups(iterable)]\n",
    "\n",
    "        details = {count : (value[0], value[-1], (value[-1] - value[0])/FRAME_RATE) for count, value in enumerate(lists)}\n",
    "\n",
    "        return details\n",
    "    \n",
    "    #Add standardised plotting functions here?\n"
   ]
  },
  {
   "cell_type": "code",
   "execution_count": 250,
   "id": "0cbe4f6a",
   "metadata": {},
   "outputs": [],
   "source": [
    "pers2 = PlotFrame(person_1, aisle_regions, other=True)"
   ]
  },
  {
   "cell_type": "code",
   "execution_count": 251,
   "id": "90d215b8",
   "metadata": {},
   "outputs": [
    {
     "data": {
      "text/plain": [
       "29988"
      ]
     },
     "execution_count": 251,
     "metadata": {},
     "output_type": "execute_result"
    }
   ],
   "source": [
    "np.sum(pers2.data[\"Other\"])"
   ]
  },
  {
   "cell_type": "code",
   "execution_count": 252,
   "id": "84fe6c8e",
   "metadata": {},
   "outputs": [
    {
     "data": {
      "text/html": [
       "<div>\n",
       "<style scoped>\n",
       "    .dataframe tbody tr th:only-of-type {\n",
       "        vertical-align: middle;\n",
       "    }\n",
       "\n",
       "    .dataframe tbody tr th {\n",
       "        vertical-align: top;\n",
       "    }\n",
       "\n",
       "    .dataframe thead th {\n",
       "        text-align: right;\n",
       "    }\n",
       "</style>\n",
       "<table border=\"1\" class=\"dataframe\">\n",
       "  <thead>\n",
       "    <tr style=\"text-align: right;\">\n",
       "      <th></th>\n",
       "      <th>Aisle 2</th>\n",
       "      <th>Aisle 3</th>\n",
       "      <th>Aisle 4</th>\n",
       "      <th>Aisle back</th>\n",
       "      <th>Other</th>\n",
       "    </tr>\n",
       "  </thead>\n",
       "  <tbody>\n",
       "    <tr>\n",
       "      <th>0</th>\n",
       "      <td>False</td>\n",
       "      <td>False</td>\n",
       "      <td>False</td>\n",
       "      <td>False</td>\n",
       "      <td>1</td>\n",
       "    </tr>\n",
       "    <tr>\n",
       "      <th>1</th>\n",
       "      <td>False</td>\n",
       "      <td>False</td>\n",
       "      <td>False</td>\n",
       "      <td>False</td>\n",
       "      <td>1</td>\n",
       "    </tr>\n",
       "    <tr>\n",
       "      <th>2</th>\n",
       "      <td>False</td>\n",
       "      <td>False</td>\n",
       "      <td>False</td>\n",
       "      <td>False</td>\n",
       "      <td>1</td>\n",
       "    </tr>\n",
       "    <tr>\n",
       "      <th>3</th>\n",
       "      <td>False</td>\n",
       "      <td>False</td>\n",
       "      <td>False</td>\n",
       "      <td>False</td>\n",
       "      <td>1</td>\n",
       "    </tr>\n",
       "    <tr>\n",
       "      <th>4</th>\n",
       "      <td>False</td>\n",
       "      <td>False</td>\n",
       "      <td>False</td>\n",
       "      <td>False</td>\n",
       "      <td>1</td>\n",
       "    </tr>\n",
       "    <tr>\n",
       "      <th>...</th>\n",
       "      <td>...</td>\n",
       "      <td>...</td>\n",
       "      <td>...</td>\n",
       "      <td>...</td>\n",
       "      <td>...</td>\n",
       "    </tr>\n",
       "    <tr>\n",
       "      <th>31989</th>\n",
       "      <td>False</td>\n",
       "      <td>False</td>\n",
       "      <td>False</td>\n",
       "      <td>False</td>\n",
       "      <td>1</td>\n",
       "    </tr>\n",
       "    <tr>\n",
       "      <th>31990</th>\n",
       "      <td>False</td>\n",
       "      <td>False</td>\n",
       "      <td>False</td>\n",
       "      <td>False</td>\n",
       "      <td>1</td>\n",
       "    </tr>\n",
       "    <tr>\n",
       "      <th>31991</th>\n",
       "      <td>False</td>\n",
       "      <td>False</td>\n",
       "      <td>False</td>\n",
       "      <td>False</td>\n",
       "      <td>1</td>\n",
       "    </tr>\n",
       "    <tr>\n",
       "      <th>31992</th>\n",
       "      <td>False</td>\n",
       "      <td>False</td>\n",
       "      <td>False</td>\n",
       "      <td>False</td>\n",
       "      <td>1</td>\n",
       "    </tr>\n",
       "    <tr>\n",
       "      <th>31993</th>\n",
       "      <td>False</td>\n",
       "      <td>False</td>\n",
       "      <td>False</td>\n",
       "      <td>False</td>\n",
       "      <td>1</td>\n",
       "    </tr>\n",
       "  </tbody>\n",
       "</table>\n",
       "<p>31994 rows × 5 columns</p>\n",
       "</div>"
      ],
      "text/plain": [
       "       Aisle 2  Aisle 3  Aisle 4  Aisle back  Other\n",
       "0        False    False    False       False      1\n",
       "1        False    False    False       False      1\n",
       "2        False    False    False       False      1\n",
       "3        False    False    False       False      1\n",
       "4        False    False    False       False      1\n",
       "...        ...      ...      ...         ...    ...\n",
       "31989    False    False    False       False      1\n",
       "31990    False    False    False       False      1\n",
       "31991    False    False    False       False      1\n",
       "31992    False    False    False       False      1\n",
       "31993    False    False    False       False      1\n",
       "\n",
       "[31994 rows x 5 columns]"
      ]
     },
     "execution_count": 252,
     "metadata": {},
     "output_type": "execute_result"
    }
   ],
   "source": [
    "pers2.data.iloc[:,-5:]"
   ]
  },
  {
   "cell_type": "markdown",
   "id": "283dd159",
   "metadata": {},
   "source": [
    "# Plotting"
   ]
  },
  {
   "cell_type": "code",
   "execution_count": 264,
   "id": "1c25ed49",
   "metadata": {},
   "outputs": [],
   "source": [
    "person1 = PlotFrame(person_1, major_regions, other=True)"
   ]
  },
  {
   "cell_type": "code",
   "execution_count": 265,
   "id": "ba31600a",
   "metadata": {},
   "outputs": [],
   "source": [
    "#Person activity plots\n",
    "def activity_distribution(df, regions, person):\n",
    "\n",
    "    plt.rcParams[\"figure.figsize\"] = (20,8)\n",
    "    plt.rcParams.update({'font.size': 22})\n",
    "    \n",
    "    fig, ax = plt.subplots()\n",
    "    \n",
    "    activities = [key for key in regions.keys()]\n",
    "    times = [np.sum([value[2] for value in act_time(df, region).values()]) for region in activities]    \n",
    "    colours = [u'#1f77b4', u'#ff7f0e', u'#2ca02c', u'#d62728']\n",
    "\n",
    "    ax.set_title(\"{} Activity Distribution\".format(person))\n",
    "    ax.set_ylabel(\"Time (sec)\")\n",
    "\n",
    "    ax.bar(activities, times, color=colours)\n",
    "    \n",
    "    return ax"
   ]
  },
  {
   "cell_type": "code",
   "execution_count": 270,
   "id": "1fb4b824",
   "metadata": {},
   "outputs": [
    {
     "data": {
      "text/plain": [
       "{0: (3881, 3996, 3.883823032759203),\n",
       " 1: (6671, 6742, 2.397838568051334),\n",
       " 2: (16963, 18197, 41.675109760216145),\n",
       " 3: (28258, 28269, 0.37149611617696726),\n",
       " 4: (28376, 28946, 19.250253292806484)}"
      ]
     },
     "execution_count": 270,
     "metadata": {},
     "output_type": "execute_result"
    }
   ],
   "source": [
    "person1.act_time(\"Aisles\")"
   ]
  },
  {
   "cell_type": "code",
   "execution_count": null,
   "id": "315752f6",
   "metadata": {},
   "outputs": [],
   "source": []
  },
  {
   "cell_type": "code",
   "execution_count": null,
   "id": "7c68d92f",
   "metadata": {},
   "outputs": [],
   "source": [
    "plt.rcParams[\"figure.figsize\"] = (20,8)\n",
    "plt.rcParams.update({'font.size': 22})\n",
    "\n",
    "fig, ax = plt.subplots()\n",
    "\n",
    "activities = [key for key in regions.keys()]\n",
    "times = [np.sum([value[2] for value in act_time(df, region).values()]) for region in activities]    \n",
    "colours = [u'#1f77b4', u'#ff7f0e', u'#2ca02c', u'#d62728']\n",
    "\n",
    "ax.set_title(\"{} Activity Distribution\".format(person))\n",
    "ax.set_ylabel(\"Time (sec)\")\n",
    "\n",
    "ax.bar(activities, times, color=colours)\n"
   ]
  },
  {
   "cell_type": "code",
   "execution_count": 267,
   "id": "21d07cc4",
   "metadata": {},
   "outputs": [
    {
     "data": {
      "text/html": [
       "<div>\n",
       "<style scoped>\n",
       "    .dataframe tbody tr th:only-of-type {\n",
       "        vertical-align: middle;\n",
       "    }\n",
       "\n",
       "    .dataframe tbody tr th {\n",
       "        vertical-align: top;\n",
       "    }\n",
       "\n",
       "    .dataframe thead th {\n",
       "        text-align: right;\n",
       "    }\n",
       "</style>\n",
       "<table border=\"1\" class=\"dataframe\">\n",
       "  <thead>\n",
       "    <tr style=\"text-align: right;\">\n",
       "      <th></th>\n",
       "      <th>frame</th>\n",
       "      <th>x</th>\n",
       "      <th>y</th>\n",
       "      <th>Computer</th>\n",
       "      <th>Desk</th>\n",
       "      <th>Aisles</th>\n",
       "      <th>Other</th>\n",
       "    </tr>\n",
       "  </thead>\n",
       "  <tbody>\n",
       "    <tr>\n",
       "      <th>0</th>\n",
       "      <td>2059</td>\n",
       "      <td>1348.100</td>\n",
       "      <td>602.915</td>\n",
       "      <td>False</td>\n",
       "      <td>True</td>\n",
       "      <td>False</td>\n",
       "      <td>0</td>\n",
       "    </tr>\n",
       "    <tr>\n",
       "      <th>1</th>\n",
       "      <td>2060</td>\n",
       "      <td>1348.050</td>\n",
       "      <td>603.650</td>\n",
       "      <td>False</td>\n",
       "      <td>True</td>\n",
       "      <td>False</td>\n",
       "      <td>0</td>\n",
       "    </tr>\n",
       "    <tr>\n",
       "      <th>2</th>\n",
       "      <td>2061</td>\n",
       "      <td>1347.585</td>\n",
       "      <td>602.795</td>\n",
       "      <td>False</td>\n",
       "      <td>True</td>\n",
       "      <td>False</td>\n",
       "      <td>0</td>\n",
       "    </tr>\n",
       "    <tr>\n",
       "      <th>3</th>\n",
       "      <td>2062</td>\n",
       "      <td>1346.510</td>\n",
       "      <td>600.665</td>\n",
       "      <td>False</td>\n",
       "      <td>True</td>\n",
       "      <td>False</td>\n",
       "      <td>0</td>\n",
       "    </tr>\n",
       "    <tr>\n",
       "      <th>4</th>\n",
       "      <td>2063</td>\n",
       "      <td>1346.555</td>\n",
       "      <td>601.195</td>\n",
       "      <td>False</td>\n",
       "      <td>True</td>\n",
       "      <td>False</td>\n",
       "      <td>0</td>\n",
       "    </tr>\n",
       "    <tr>\n",
       "      <th>...</th>\n",
       "      <td>...</td>\n",
       "      <td>...</td>\n",
       "      <td>...</td>\n",
       "      <td>...</td>\n",
       "      <td>...</td>\n",
       "      <td>...</td>\n",
       "      <td>...</td>\n",
       "    </tr>\n",
       "    <tr>\n",
       "      <th>31989</th>\n",
       "      <td>37126</td>\n",
       "      <td>852.015</td>\n",
       "      <td>654.080</td>\n",
       "      <td>False</td>\n",
       "      <td>True</td>\n",
       "      <td>False</td>\n",
       "      <td>0</td>\n",
       "    </tr>\n",
       "    <tr>\n",
       "      <th>31990</th>\n",
       "      <td>37127</td>\n",
       "      <td>853.585</td>\n",
       "      <td>653.480</td>\n",
       "      <td>False</td>\n",
       "      <td>True</td>\n",
       "      <td>False</td>\n",
       "      <td>0</td>\n",
       "    </tr>\n",
       "    <tr>\n",
       "      <th>31991</th>\n",
       "      <td>37128</td>\n",
       "      <td>855.510</td>\n",
       "      <td>654.585</td>\n",
       "      <td>False</td>\n",
       "      <td>True</td>\n",
       "      <td>False</td>\n",
       "      <td>0</td>\n",
       "    </tr>\n",
       "    <tr>\n",
       "      <th>31992</th>\n",
       "      <td>37129</td>\n",
       "      <td>858.460</td>\n",
       "      <td>655.665</td>\n",
       "      <td>False</td>\n",
       "      <td>True</td>\n",
       "      <td>False</td>\n",
       "      <td>0</td>\n",
       "    </tr>\n",
       "    <tr>\n",
       "      <th>31993</th>\n",
       "      <td>37130</td>\n",
       "      <td>860.025</td>\n",
       "      <td>656.955</td>\n",
       "      <td>False</td>\n",
       "      <td>True</td>\n",
       "      <td>False</td>\n",
       "      <td>0</td>\n",
       "    </tr>\n",
       "  </tbody>\n",
       "</table>\n",
       "<p>31994 rows × 7 columns</p>\n",
       "</div>"
      ],
      "text/plain": [
       "       frame         x        y  Computer  Desk  Aisles  Other\n",
       "0       2059  1348.100  602.915     False  True   False      0\n",
       "1       2060  1348.050  603.650     False  True   False      0\n",
       "2       2061  1347.585  602.795     False  True   False      0\n",
       "3       2062  1346.510  600.665     False  True   False      0\n",
       "4       2063  1346.555  601.195     False  True   False      0\n",
       "...      ...       ...      ...       ...   ...     ...    ...\n",
       "31989  37126   852.015  654.080     False  True   False      0\n",
       "31990  37127   853.585  653.480     False  True   False      0\n",
       "31991  37128   855.510  654.585     False  True   False      0\n",
       "31992  37129   858.460  655.665     False  True   False      0\n",
       "31993  37130   860.025  656.955     False  True   False      0\n",
       "\n",
       "[31994 rows x 7 columns]"
      ]
     },
     "execution_count": 267,
     "metadata": {},
     "output_type": "execute_result"
    }
   ],
   "source": [
    "person1.data"
   ]
  },
  {
   "cell_type": "code",
   "execution_count": 268,
   "id": "fcdcaf6b",
   "metadata": {},
   "outputs": [
    {
     "ename": "KeyError",
     "evalue": "'computer'",
     "output_type": "error",
     "traceback": [
      "\u001b[1;31m---------------------------------------------------------------------------\u001b[0m",
      "\u001b[1;31mKeyError\u001b[0m                                  Traceback (most recent call last)",
      "File \u001b[1;32m~\\anaconda3\\lib\\site-packages\\pandas\\core\\indexes\\base.py:3621\u001b[0m, in \u001b[0;36mIndex.get_loc\u001b[1;34m(self, key, method, tolerance)\u001b[0m\n\u001b[0;32m   3620\u001b[0m \u001b[38;5;28;01mtry\u001b[39;00m:\n\u001b[1;32m-> 3621\u001b[0m     \u001b[38;5;28;01mreturn\u001b[39;00m \u001b[38;5;28;43mself\u001b[39;49m\u001b[38;5;241;43m.\u001b[39;49m\u001b[43m_engine\u001b[49m\u001b[38;5;241;43m.\u001b[39;49m\u001b[43mget_loc\u001b[49m\u001b[43m(\u001b[49m\u001b[43mcasted_key\u001b[49m\u001b[43m)\u001b[49m\n\u001b[0;32m   3622\u001b[0m \u001b[38;5;28;01mexcept\u001b[39;00m \u001b[38;5;167;01mKeyError\u001b[39;00m \u001b[38;5;28;01mas\u001b[39;00m err:\n",
      "File \u001b[1;32m~\\anaconda3\\lib\\site-packages\\pandas\\_libs\\index.pyx:136\u001b[0m, in \u001b[0;36mpandas._libs.index.IndexEngine.get_loc\u001b[1;34m()\u001b[0m\n",
      "File \u001b[1;32m~\\anaconda3\\lib\\site-packages\\pandas\\_libs\\index.pyx:163\u001b[0m, in \u001b[0;36mpandas._libs.index.IndexEngine.get_loc\u001b[1;34m()\u001b[0m\n",
      "File \u001b[1;32mpandas\\_libs\\hashtable_class_helper.pxi:5198\u001b[0m, in \u001b[0;36mpandas._libs.hashtable.PyObjectHashTable.get_item\u001b[1;34m()\u001b[0m\n",
      "File \u001b[1;32mpandas\\_libs\\hashtable_class_helper.pxi:5206\u001b[0m, in \u001b[0;36mpandas._libs.hashtable.PyObjectHashTable.get_item\u001b[1;34m()\u001b[0m\n",
      "\u001b[1;31mKeyError\u001b[0m: 'computer'",
      "\nThe above exception was the direct cause of the following exception:\n",
      "\u001b[1;31mKeyError\u001b[0m                                  Traceback (most recent call last)",
      "Input \u001b[1;32mIn [268]\u001b[0m, in \u001b[0;36m<cell line: 1>\u001b[1;34m()\u001b[0m\n\u001b[1;32m----> 1\u001b[0m \u001b[43mactivity_distribution\u001b[49m\u001b[43m(\u001b[49m\u001b[43mperson_1\u001b[49m\u001b[43m,\u001b[49m\u001b[43m \u001b[49m\u001b[43mregions\u001b[49m\u001b[43m,\u001b[49m\u001b[43m \u001b[49m\u001b[38;5;124;43m\"\u001b[39;49m\u001b[38;5;124;43mPerson 1\u001b[39;49m\u001b[38;5;124;43m\"\u001b[39;49m\u001b[43m)\u001b[49m\n",
      "Input \u001b[1;32mIn [265]\u001b[0m, in \u001b[0;36mactivity_distribution\u001b[1;34m(df, regions, person)\u001b[0m\n\u001b[0;32m      7\u001b[0m fig, ax \u001b[38;5;241m=\u001b[39m plt\u001b[38;5;241m.\u001b[39msubplots()\n\u001b[0;32m      9\u001b[0m activities \u001b[38;5;241m=\u001b[39m [key \u001b[38;5;28;01mfor\u001b[39;00m key \u001b[38;5;129;01min\u001b[39;00m regions\u001b[38;5;241m.\u001b[39mkeys()]\n\u001b[1;32m---> 10\u001b[0m times \u001b[38;5;241m=\u001b[39m [np\u001b[38;5;241m.\u001b[39msum([value[\u001b[38;5;241m2\u001b[39m] \u001b[38;5;28;01mfor\u001b[39;00m value \u001b[38;5;129;01min\u001b[39;00m act_time(df, region)\u001b[38;5;241m.\u001b[39mvalues()]) \u001b[38;5;28;01mfor\u001b[39;00m region \u001b[38;5;129;01min\u001b[39;00m activities]    \n\u001b[0;32m     11\u001b[0m colours \u001b[38;5;241m=\u001b[39m [\u001b[38;5;124mu\u001b[39m\u001b[38;5;124m'\u001b[39m\u001b[38;5;124m#1f77b4\u001b[39m\u001b[38;5;124m'\u001b[39m, \u001b[38;5;124mu\u001b[39m\u001b[38;5;124m'\u001b[39m\u001b[38;5;124m#ff7f0e\u001b[39m\u001b[38;5;124m'\u001b[39m, \u001b[38;5;124mu\u001b[39m\u001b[38;5;124m'\u001b[39m\u001b[38;5;124m#2ca02c\u001b[39m\u001b[38;5;124m'\u001b[39m, \u001b[38;5;124mu\u001b[39m\u001b[38;5;124m'\u001b[39m\u001b[38;5;124m#d62728\u001b[39m\u001b[38;5;124m'\u001b[39m]\n\u001b[0;32m     13\u001b[0m ax\u001b[38;5;241m.\u001b[39mset_title(\u001b[38;5;124m\"\u001b[39m\u001b[38;5;132;01m{}\u001b[39;00m\u001b[38;5;124m Activity Distribution\u001b[39m\u001b[38;5;124m\"\u001b[39m\u001b[38;5;241m.\u001b[39mformat(person))\n",
      "Input \u001b[1;32mIn [265]\u001b[0m, in \u001b[0;36m<listcomp>\u001b[1;34m(.0)\u001b[0m\n\u001b[0;32m      7\u001b[0m fig, ax \u001b[38;5;241m=\u001b[39m plt\u001b[38;5;241m.\u001b[39msubplots()\n\u001b[0;32m      9\u001b[0m activities \u001b[38;5;241m=\u001b[39m [key \u001b[38;5;28;01mfor\u001b[39;00m key \u001b[38;5;129;01min\u001b[39;00m regions\u001b[38;5;241m.\u001b[39mkeys()]\n\u001b[1;32m---> 10\u001b[0m times \u001b[38;5;241m=\u001b[39m [np\u001b[38;5;241m.\u001b[39msum([value[\u001b[38;5;241m2\u001b[39m] \u001b[38;5;28;01mfor\u001b[39;00m value \u001b[38;5;129;01min\u001b[39;00m \u001b[43mact_time\u001b[49m\u001b[43m(\u001b[49m\u001b[43mdf\u001b[49m\u001b[43m,\u001b[49m\u001b[43m \u001b[49m\u001b[43mregion\u001b[49m\u001b[43m)\u001b[49m\u001b[38;5;241m.\u001b[39mvalues()]) \u001b[38;5;28;01mfor\u001b[39;00m region \u001b[38;5;129;01min\u001b[39;00m activities]    \n\u001b[0;32m     11\u001b[0m colours \u001b[38;5;241m=\u001b[39m [\u001b[38;5;124mu\u001b[39m\u001b[38;5;124m'\u001b[39m\u001b[38;5;124m#1f77b4\u001b[39m\u001b[38;5;124m'\u001b[39m, \u001b[38;5;124mu\u001b[39m\u001b[38;5;124m'\u001b[39m\u001b[38;5;124m#ff7f0e\u001b[39m\u001b[38;5;124m'\u001b[39m, \u001b[38;5;124mu\u001b[39m\u001b[38;5;124m'\u001b[39m\u001b[38;5;124m#2ca02c\u001b[39m\u001b[38;5;124m'\u001b[39m, \u001b[38;5;124mu\u001b[39m\u001b[38;5;124m'\u001b[39m\u001b[38;5;124m#d62728\u001b[39m\u001b[38;5;124m'\u001b[39m]\n\u001b[0;32m     13\u001b[0m ax\u001b[38;5;241m.\u001b[39mset_title(\u001b[38;5;124m\"\u001b[39m\u001b[38;5;132;01m{}\u001b[39;00m\u001b[38;5;124m Activity Distribution\u001b[39m\u001b[38;5;124m\"\u001b[39m\u001b[38;5;241m.\u001b[39mformat(person))\n",
      "Input \u001b[1;32mIn [12]\u001b[0m, in \u001b[0;36mact_time\u001b[1;34m(df, region)\u001b[0m\n\u001b[0;32m      3\u001b[0m \u001b[38;5;28;01mdef\u001b[39;00m \u001b[38;5;21mact_time\u001b[39m(df, region):\n\u001b[0;32m      4\u001b[0m     \u001b[38;5;66;03m#Takes in values (dataframe, activity as string)\u001b[39;00m\n\u001b[0;32m      5\u001b[0m     \u001b[38;5;66;03m#Returns a dictionary with a tuple of the form (start frame, end frame, time taken) for each instance of the activity.\u001b[39;00m\n\u001b[1;32m----> 6\u001b[0m     iterable \u001b[38;5;241m=\u001b[39m df[\u001b[43mdf\u001b[49m\u001b[43m[\u001b[49m\u001b[43mregion\u001b[49m\u001b[43m]\u001b[49m \u001b[38;5;241m==\u001b[39m \u001b[38;5;28;01mTrue\u001b[39;00m]\u001b[38;5;241m.\u001b[39mindex\u001b[38;5;241m.\u001b[39mto_series()\u001b[38;5;241m.\u001b[39mto_list()\n\u001b[0;32m      7\u001b[0m     lists \u001b[38;5;241m=\u001b[39m [\u001b[38;5;28mlist\u001b[39m(group) \u001b[38;5;28;01mfor\u001b[39;00m group \u001b[38;5;129;01min\u001b[39;00m mit\u001b[38;5;241m.\u001b[39mconsecutive_groups(iterable)]\n\u001b[0;32m      9\u001b[0m     details \u001b[38;5;241m=\u001b[39m {count : (value[\u001b[38;5;241m0\u001b[39m], value[\u001b[38;5;241m-\u001b[39m\u001b[38;5;241m1\u001b[39m], (value[\u001b[38;5;241m-\u001b[39m\u001b[38;5;241m1\u001b[39m] \u001b[38;5;241m-\u001b[39m value[\u001b[38;5;241m0\u001b[39m])\u001b[38;5;241m/\u001b[39mFRAME_RATE) \u001b[38;5;28;01mfor\u001b[39;00m count, value \u001b[38;5;129;01min\u001b[39;00m \u001b[38;5;28menumerate\u001b[39m(lists)}\n",
      "File \u001b[1;32m~\\anaconda3\\lib\\site-packages\\pandas\\core\\frame.py:3505\u001b[0m, in \u001b[0;36mDataFrame.__getitem__\u001b[1;34m(self, key)\u001b[0m\n\u001b[0;32m   3503\u001b[0m \u001b[38;5;28;01mif\u001b[39;00m \u001b[38;5;28mself\u001b[39m\u001b[38;5;241m.\u001b[39mcolumns\u001b[38;5;241m.\u001b[39mnlevels \u001b[38;5;241m>\u001b[39m \u001b[38;5;241m1\u001b[39m:\n\u001b[0;32m   3504\u001b[0m     \u001b[38;5;28;01mreturn\u001b[39;00m \u001b[38;5;28mself\u001b[39m\u001b[38;5;241m.\u001b[39m_getitem_multilevel(key)\n\u001b[1;32m-> 3505\u001b[0m indexer \u001b[38;5;241m=\u001b[39m \u001b[38;5;28;43mself\u001b[39;49m\u001b[38;5;241;43m.\u001b[39;49m\u001b[43mcolumns\u001b[49m\u001b[38;5;241;43m.\u001b[39;49m\u001b[43mget_loc\u001b[49m\u001b[43m(\u001b[49m\u001b[43mkey\u001b[49m\u001b[43m)\u001b[49m\n\u001b[0;32m   3506\u001b[0m \u001b[38;5;28;01mif\u001b[39;00m is_integer(indexer):\n\u001b[0;32m   3507\u001b[0m     indexer \u001b[38;5;241m=\u001b[39m [indexer]\n",
      "File \u001b[1;32m~\\anaconda3\\lib\\site-packages\\pandas\\core\\indexes\\base.py:3623\u001b[0m, in \u001b[0;36mIndex.get_loc\u001b[1;34m(self, key, method, tolerance)\u001b[0m\n\u001b[0;32m   3621\u001b[0m     \u001b[38;5;28;01mreturn\u001b[39;00m \u001b[38;5;28mself\u001b[39m\u001b[38;5;241m.\u001b[39m_engine\u001b[38;5;241m.\u001b[39mget_loc(casted_key)\n\u001b[0;32m   3622\u001b[0m \u001b[38;5;28;01mexcept\u001b[39;00m \u001b[38;5;167;01mKeyError\u001b[39;00m \u001b[38;5;28;01mas\u001b[39;00m err:\n\u001b[1;32m-> 3623\u001b[0m     \u001b[38;5;28;01mraise\u001b[39;00m \u001b[38;5;167;01mKeyError\u001b[39;00m(key) \u001b[38;5;28;01mfrom\u001b[39;00m \u001b[38;5;21;01merr\u001b[39;00m\n\u001b[0;32m   3624\u001b[0m \u001b[38;5;28;01mexcept\u001b[39;00m \u001b[38;5;167;01mTypeError\u001b[39;00m:\n\u001b[0;32m   3625\u001b[0m     \u001b[38;5;66;03m# If we have a listlike key, _check_indexing_error will raise\u001b[39;00m\n\u001b[0;32m   3626\u001b[0m     \u001b[38;5;66;03m#  InvalidIndexError. Otherwise we fall through and re-raise\u001b[39;00m\n\u001b[0;32m   3627\u001b[0m     \u001b[38;5;66;03m#  the TypeError.\u001b[39;00m\n\u001b[0;32m   3628\u001b[0m     \u001b[38;5;28mself\u001b[39m\u001b[38;5;241m.\u001b[39m_check_indexing_error(key)\n",
      "\u001b[1;31mKeyError\u001b[0m: 'computer'"
     ]
    },
    {
     "data": {
      "image/png": "[encoded data removed]",
      "text/plain": [
       "<Figure size 1440x576 with 1 Axes>"
      ]
     },
     "metadata": {
      "needs_background": "light"
     },
     "output_type": "display_data"
    }
   ],
   "source": [
    "activity_distribution(person_1, regions, \"Person 1\")"
   ]
  },
  {
   "cell_type": "code",
   "execution_count": null,
   "id": "4991dadb",
   "metadata": {},
   "outputs": [],
   "source": []
  },
  {
   "cell_type": "code",
   "execution_count": null,
   "id": "c2103506",
   "metadata": {},
   "outputs": [],
   "source": []
  },
  {
   "cell_type": "code",
   "execution_count": null,
   "id": "c21b61d0",
   "metadata": {},
   "outputs": [],
   "source": []
  },
  {
   "cell_type": "code",
   "execution_count": null,
   "id": "70049bde",
   "metadata": {},
   "outputs": [],
   "source": []
  },
  {
   "cell_type": "code",
   "execution_count": null,
   "id": "fa368d69",
   "metadata": {},
   "outputs": [],
   "source": []
  },
  {
   "cell_type": "code",
   "execution_count": null,
   "id": "09a3fd6f",
   "metadata": {},
   "outputs": [],
   "source": [
    "#Person 1 activity plots\n",
    "\n"
   ]
  },
  {
   "cell_type": "code",
   "execution_count": null,
   "id": "555908b2",
   "metadata": {},
   "outputs": [],
   "source": [
    "[key for key in regions.keys()]"
   ]
  },
  {
   "cell_type": "code",
   "execution_count": 15,
   "id": "e41ad5fb",
   "metadata": {},
   "outputs": [
    {
     "data": {
      "text/plain": [
       "39.41236068895643"
      ]
     },
     "execution_count": 15,
     "metadata": {},
     "output_type": "execute_result"
    }
   ],
   "source": [
    "np.sum([value[2] for value in act_time(person_1, \"aisle 4\").values()])"
   ]
  },
  {
   "cell_type": "code",
   "execution_count": 16,
   "id": "89c57b0a",
   "metadata": {},
   "outputs": [
    {
     "data": {
      "text/plain": [
       "[198.04120229652145,\n",
       " 950.7598784194529,\n",
       " 22.728807835190814,\n",
       " 0.37149611617696726,\n",
       " 39.41236068895643,\n",
       " 4.9983113812901045]"
      ]
     },
     "execution_count": 16,
     "metadata": {},
     "output_type": "execute_result"
    }
   ],
   "source": [
    "activities = [key for key in regions.keys()]\n",
    "[np.sum([value[2] for value in act_time(person_1, region).values()]) for region in activities]"
   ]
  },
  {
   "cell_type": "code",
   "execution_count": null,
   "id": "0d28bd72",
   "metadata": {},
   "outputs": [],
   "source": []
  },
  {
   "cell_type": "markdown",
   "id": "587ecf31",
   "metadata": {},
   "source": [
    "# ARCHIVED CODE"
   ]
  },
  {
   "cell_type": "code",
   "execution_count": null,
   "id": "3dd6789c",
   "metadata": {},
   "outputs": [],
   "source": [
    "#Locations\n",
    "\n",
    "class variant1:\n",
    "\n",
    "    COMPUTER_COORD = [1450, 1600, 575, 700]\n",
    "    DESK_COORD = [330, 1600, 575, 700]\n",
    "    AISLE_2_COORD = [700, 900, 20, 400]\n",
    "    AISLE_3_COORD = [1100, 1300, 100, 425]\n",
    "    AISLE_4_COORD = [1500, 1800, 20, 390]\n",
    "    AISLE_BACK_COORD = [0, 1920, -200, 20]\n",
    "\n",
    "    regions = {\n",
    "        \"computer\" : COMPUTER_COORD,\n",
    "        \"desk\" : DESK_COORD,\n",
    "        \"aisle 2\" : AISLE_2_COORD,\n",
    "        \"aisle 3\" : AISLE_3_COORD,\n",
    "        \"aisle 4\" : AISLE_4_COORD,\n",
    "        \"aisle back\" : AISLE_BACK_COORD \n",
    "    }\n",
    "\n",
    "class variant2:\n",
    "\n",
    "    COMPUTER_COORD = [1450, 1600, 575, 700]\n",
    "    DESK_COORD = [330, 1600, 575, 700]\n",
    "    AISLE_2_COORD = [700, 900, 20, 400]\n",
    "    AISLE_3_COORD = [1100, 1300, 100, 425]\n",
    "    AISLE_4_COORD = [1500, 1800, 20, 390]\n",
    "    AISLE_BACK_COORD = [0, 1920, -200, 20]\n",
    "\n",
    "    regions = {\n",
    "        \"computer\" : COMPUTER_COORD,\n",
    "        \"desk\" : DESK_COORD,\n",
    "        \"aisles\" : (AISLE_2_COORD, AISLE_3_COORD, AISLE_4_COORD, AISLE_BACK_COORD)\n",
    "    }\n",
    "    \n",
    "class variant2:\n",
    "\n",
    "    AISLE_2_COORD = [700, 900, 20, 400]\n",
    "    AISLE_3_COORD = [1100, 1300, 100, 425]\n",
    "    AISLE_4_COORD = [1500, 1800, 20, 390]\n",
    "    AISLE_BACK_COORD = [0, 1920, -200, 20]\n",
    "\n",
    "    regions = {\n",
    "        \"aisle 2\" : AISLE_2_COORD,\n",
    "        \"aisle 3\" : AISLE_3_COORD,\n",
    "        \"aisle 4\" : AISLE_4_COORD,\n",
    "        \"aisle back\" : AISLE_BACK_COORD \n",
    "    }\n"
   ]
  },
  {
   "cell_type": "code",
   "execution_count": null,
   "id": "613d0399",
   "metadata": {},
   "outputs": [],
   "source": [
    "class PlotFrame():\n",
    "    \n",
    "    def __init__(self, daf):\n",
    "        self.data = daf\n",
    "\n",
    "    def location(self,regions):\n",
    "        \n",
    "        for key, value in regions.items():\n",
    "            name = key\n",
    "            coords = value\n",
    "\n",
    "            if type(coords) == list:\n",
    "                conditions=[(coords[0] < self.data[\"x\"]) & (self.data[\"x\"] < coords[1]) & (coords[2] <self.data[\"y\"]) & (self.data[\"y\"] < coords[3])]\n",
    "                choices=[1]\n",
    "            else:\n",
    "                conditions=[(coord[0] < self.data[\"x\"]) & (self.data[\"x\"] < coord[1]) & (coord[2] < self.data[\"y\"]) & (self.data[\"y\"] < coord[3]) for coord in coords]\n",
    "                choices=[1]*len(coords)\n",
    "            \n",
    "            self.data[name] = np.select(conditions, choices, default = 0).astype('bool')"
   ]
  },
  {
   "cell_type": "code",
   "execution_count": null,
   "id": "49974912",
   "metadata": {},
   "outputs": [],
   "source": [
    "def location(df, coords, name):\n",
    "    #requires a dataframe with x and y coordinate columns. \n",
    "    #coords = [x_left, x_right, y_top, y_bottom]\n",
    "    #Note y-axis is inverted\n",
    "    #name is a string\n",
    "    \n",
    "    if type(coords) == list:\n",
    "        conditions=[(coords[0] < df[\"x\"]) & (df[\"x\"] < coords[1]) & (coords[2] < df[\"y\"]) & (df[\"y\"] < coords[3])]\n",
    "        choices=[1]\n",
    "    else:\n",
    "        conditions=[(coord[0] < df[\"x\"]) & (df[\"x\"] < coord[1]) & (coord[2] < df[\"y\"]) & (df[\"y\"] < coord[3]) for coord in coords]\n",
    "        choices=[1]*len(coords)\n",
    "    \n",
    "    df[name] = np.select(conditions, choices, default = 0).astype('bool')"
   ]
  },
  {
   "cell_type": "code",
   "execution_count": null,
   "id": "99263d48",
   "metadata": {},
   "outputs": [],
   "source": [
    "#Generate location boolean values for the dataframe\n",
    "for key, value in regions.items():\n",
    "    location(person_1, value, key)\n",
    "    \n",
    "for key, value in regions.items():\n",
    "    location(person_2, value, key)"
   ]
  }
 ],
 "metadata": {
  "kernelspec": {
   "display_name": "Python 3 (ipykernel)",
   "language": "python",
   "name": "python3"
  },
  "language_info": {
   "codemirror_mode": {
    "name": "ipython",
    "version": 3
   },
   "file_extension": ".py",
   "mimetype": "text/x-python",
   "name": "python",
   "nbconvert_exporter": "python",
   "pygments_lexer": "ipython3",
   "version": "3.9.12"
  }
 },
 "nbformat": 4,
 "nbformat_minor": 5
}
